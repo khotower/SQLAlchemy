{
 "cells": [
  {
   "cell_type": "code",
   "execution_count": 85,
   "metadata": {
    "collapsed": true
   },
   "outputs": [],
   "source": [
    "%matplotlib inline\n",
    "from matplotlib import style\n",
    "style.use('fivethirtyeight')\n",
    "import matplotlib.pyplot as plt"
   ]
  },
  {
   "cell_type": "code",
   "execution_count": 86,
   "metadata": {
    "collapsed": true
   },
   "outputs": [],
   "source": [
    "import numpy as np\n",
    "import pandas as pd"
   ]
  },
  {
   "cell_type": "code",
   "execution_count": 87,
   "metadata": {
    "collapsed": true
   },
   "outputs": [],
   "source": [
    "import datetime as dt\n",
    "import warnings\n",
    "warnings.filterwarnings('ignore')"
   ]
  },
  {
   "cell_type": "markdown",
   "metadata": {},
   "source": [
    "# Reflect Tables into SQLAlchemy ORM"
   ]
  },
  {
   "cell_type": "code",
   "execution_count": 88,
   "metadata": {
    "collapsed": true
   },
   "outputs": [],
   "source": [
    "# Python SQL toolkit and Object Relational Mapper\n",
    "import sqlalchemy\n",
    "from sqlalchemy.ext.automap import automap_base\n",
    "from sqlalchemy.orm import Session\n",
    "from sqlalchemy import create_engine, func\n",
    "from sqlalchemy import MetaData, Table\n",
    "# import pandas as pd"
   ]
  },
  {
   "cell_type": "code",
   "execution_count": 89,
   "metadata": {
    "collapsed": true
   },
   "outputs": [],
   "source": [
    "engine = create_engine(\"sqlite:///hawaii.sqlite\")\n",
    "connection = engine.connect()"
   ]
  },
  {
   "cell_type": "code",
   "execution_count": null,
   "metadata": {
    "collapsed": true
   },
   "outputs": [],
   "source": []
  },
  {
   "cell_type": "code",
   "execution_count": 90,
   "metadata": {
    "collapsed": true
   },
   "outputs": [],
   "source": [
    "meta = MetaData()\n",
    "meta.reflect(bind=engine)"
   ]
  },
  {
   "cell_type": "code",
   "execution_count": 91,
   "metadata": {
    "collapsed": true
   },
   "outputs": [],
   "source": [
    "# reflect an existing database into a new model\n",
    "meta.reflect(engine, only=['measurement', 'station'])\n",
    "Base = automap_base(metadata=meta)\n",
    "Base.prepare()\n",
    "\n",
    "measurement, station = Base.classes.measurement, Base.classes.station\n",
    "\n",
    "# reflect the tables\n",
    "tbl_measurement = Table('measurement', meta, autoload=True, autoload_with=engine)\n",
    "tbl_station = Table('station', meta, autoload=True, autoload_with=engine)"
   ]
  },
  {
   "cell_type": "code",
   "execution_count": 92,
   "metadata": {},
   "outputs": [
    {
     "data": {
      "text/plain": [
       "Table('measurement', MetaData(bind=None), Column('id', INTEGER(), table=<measurement>, primary_key=True, nullable=False), Column('station', TEXT(), table=<measurement>), Column('date', TEXT(), table=<measurement>), Column('prcp', FLOAT(), table=<measurement>), Column('tobs', FLOAT(), table=<measurement>), schema=None)"
      ]
     },
     "execution_count": 92,
     "metadata": {},
     "output_type": "execute_result"
    }
   ],
   "source": [
    "tbl_measurement"
   ]
  },
  {
   "cell_type": "code",
   "execution_count": 93,
   "metadata": {
    "collapsed": true
   },
   "outputs": [],
   "source": [
    "# Save references to each table\n",
    "measurement, station = Base.classes.measurement, Base.classes.station"
   ]
  },
  {
   "cell_type": "code",
   "execution_count": 94,
   "metadata": {
    "collapsed": true
   },
   "outputs": [],
   "source": [
    "# Create our session (link) from Python to the DB\n"
   ]
  },
  {
   "cell_type": "markdown",
   "metadata": {},
   "source": [
    "# Exploratory Climate Analysis"
   ]
  },
  {
   "cell_type": "code",
   "execution_count": 95,
   "metadata": {
    "collapsed": true
   },
   "outputs": [],
   "source": [
    "# from sqlalchemy.sql import select\n",
    "from sqlalchemy.sql import text"
   ]
  },
  {
   "cell_type": "code",
   "execution_count": 97,
   "metadata": {},
   "outputs": [
    {
     "name": "stdout",
     "output_type": "stream",
     "text": [
      "Date from 1 year ago from latest date in database: \n",
      "['2016-08-23']\n",
      "            precipitation\n",
      "date                     \n",
      "2016-08-23           2.71\n",
      "2016-08-24           9.33\n",
      "2016-08-25           0.54\n",
      "2016-08-26           0.10\n",
      "2016-08-27           0.32\n",
      "2016-08-28           3.10\n",
      "2016-08-29           1.46\n",
      "2016-08-30           0.07\n",
      "2016-08-31           3.18\n",
      "2016-09-01           0.03\n",
      "2016-09-02           0.25\n",
      "2016-09-03           1.27\n",
      "2016-09-04           1.38\n",
      "2016-09-05           0.34\n",
      "2016-09-06           1.23\n",
      "2016-09-07           2.00\n",
      "2016-09-08           0.46\n",
      "2016-09-09           1.07\n",
      "2016-09-10           1.40\n",
      "2016-09-11           1.25\n",
      "2016-09-12           1.54\n",
      "2016-09-13           2.71\n",
      "2016-09-14          14.28\n",
      "2016-09-15           4.96\n",
      "2016-09-16           0.82\n",
      "2016-09-17           0.68\n",
      "2016-09-18           0.53\n",
      "2016-09-19           0.32\n",
      "2016-09-20           1.03\n",
      "2016-09-21           1.17\n",
      "...                   ...\n",
      "2017-07-25           0.61\n",
      "2017-07-26           0.50\n",
      "2017-07-27           0.01\n",
      "2017-07-28           0.77\n",
      "2017-07-29           0.61\n",
      "2017-07-30           0.30\n",
      "2017-07-31           0.00\n",
      "2017-08-01           0.14\n",
      "2017-08-02           0.30\n",
      "2017-08-03           0.07\n",
      "2017-08-04           0.06\n",
      "2017-08-05           0.06\n",
      "2017-08-06           0.00\n",
      "2017-08-07           0.05\n",
      "2017-08-08           0.44\n",
      "2017-08-09           0.15\n",
      "2017-08-10           0.07\n",
      "2017-08-11           0.00\n",
      "2017-08-12           0.14\n",
      "2017-08-13           0.00\n",
      "2017-08-14           0.31\n",
      "2017-08-15           0.82\n",
      "2017-08-16           0.61\n",
      "2017-08-17           0.19\n",
      "2017-08-18           0.06\n",
      "2017-08-19           0.09\n",
      "2017-08-20           0.01\n",
      "2017-08-21           0.58\n",
      "2017-08-22           0.50\n",
      "2017-08-23           0.53\n",
      "\n",
      "[366 rows x 1 columns]\n"
     ]
    },
    {
     "data": {
      "text/plain": [
       "<matplotlib.axes._subplots.AxesSubplot at 0x2e8454c7fd0>"
      ]
     },
     "execution_count": 97,
     "metadata": {},
     "output_type": "execute_result"
    },
    {
     "data": {
      "image/png": "[encoded data removed]",
      "text/plain": [
       "<matplotlib.figure.Figure at 0x2e844e5bfd0>"
      ]
     },
     "metadata": {},
     "output_type": "display_data"
    }
   ],
   "source": [
    "# Design a query to retrieve the last 12 months of precipitation data and plot the results\n",
    "s = text (\"Select * from measurement where date >= date('now','start of year', '-1 year')\")\n",
    "result = connection.execute(s).fetchall()\n",
    "for row in result:\n",
    "    print(row)\n",
    "\n",
    "# Calculate the date 1 year ago from the last data point in the database\n",
    "s = text (\"Select date((select max(date) from measurement), '-1 year') As Date\")\n",
    "result = connection.execute(s).fetchall()\n",
    "for row in result:\n",
    "    print('Date from 1 year ago from latest date in database: ')\n",
    "    print(row.values())\n",
    "\n",
    "\n",
    "# Perform a query to retrieve the data and precipitation scores\n",
    "s = text (\"Select date, prcp from measurement where date >= date((select max(date) from measurement), '-1 year')\")\n",
    "result = connection.execute(s).fetchall()\n",
    "\"\"\"for row in result:\n",
    "    print(row)\"\"\"\n",
    "\n",
    "# Save the query results as a Pandas DataFrame and set the index to the date column\n",
    "df_date_prcp = pd.DataFrame(result)\n",
    "df_date_prcp.columns = result[0].keys()\n",
    "df_date_prcp = df_date_prcp.groupby('date').sum().reset_index()\n",
    "df_date_prcp  = df_date_prcp.set_index(df_date_prcp.date) \n",
    "df_date_prcp = df_date_prcp.drop('date', axis=1)\n",
    "# # Sort the dataframe by date\n",
    "# df_date_prcp = df_date_prcp.sort_values('date', ascending=0)\n",
    "df_date_prcp = df_date_prcp.rename(columns={'prcp':'precipitation'})\n",
    "print(df_date_prcp)\n",
    "# Use Pandas Plotting with Matplotlib to plot the data\n",
    "# df_date_prcp.head(20).plot(kind='bar', xlabel = 'Date', ylabel ='inches')\n",
    "df_date_prcp.head(20).plot(kind='bar',)"
   ]
  },
  {
   "cell_type": "code",
   "execution_count": 98,
   "metadata": {},
   "outputs": [
    {
     "data": {
      "text/html": [
       "<div>\n",
       "<style>\n",
       "    .dataframe thead tr:only-child th {\n",
       "        text-align: right;\n",
       "    }\n",
       "\n",
       "    .dataframe thead th {\n",
       "        text-align: left;\n",
       "    }\n",
       "\n",
       "    .dataframe tbody tr th {\n",
       "        vertical-align: top;\n",
       "    }\n",
       "</style>\n",
       "<table border=\"1\" class=\"dataframe\">\n",
       "  <thead>\n",
       "    <tr style=\"text-align: right;\">\n",
       "      <th></th>\n",
       "      <th>precipitation</th>\n",
       "    </tr>\n",
       "  </thead>\n",
       "  <tbody>\n",
       "    <tr>\n",
       "      <th>count</th>\n",
       "      <td>366.000000</td>\n",
       "    </tr>\n",
       "    <tr>\n",
       "      <th>mean</th>\n",
       "      <td>0.978907</td>\n",
       "    </tr>\n",
       "    <tr>\n",
       "      <th>std</th>\n",
       "      <td>1.776349</td>\n",
       "    </tr>\n",
       "    <tr>\n",
       "      <th>min</th>\n",
       "      <td>0.000000</td>\n",
       "    </tr>\n",
       "    <tr>\n",
       "      <th>25%</th>\n",
       "      <td>0.052500</td>\n",
       "    </tr>\n",
       "    <tr>\n",
       "      <th>50%</th>\n",
       "      <td>0.405000</td>\n",
       "    </tr>\n",
       "    <tr>\n",
       "      <th>75%</th>\n",
       "      <td>1.087500</td>\n",
       "    </tr>\n",
       "    <tr>\n",
       "      <th>max</th>\n",
       "      <td>14.280000</td>\n",
       "    </tr>\n",
       "  </tbody>\n",
       "</table>\n",
       "</div>"
      ],
      "text/plain": [
       "       precipitation\n",
       "count     366.000000\n",
       "mean        0.978907\n",
       "std         1.776349\n",
       "min         0.000000\n",
       "25%         0.052500\n",
       "50%         0.405000\n",
       "75%         1.087500\n",
       "max        14.280000"
      ]
     },
     "execution_count": 98,
     "metadata": {},
     "output_type": "execute_result"
    }
   ],
   "source": [
    "# Use Pandas to calcualte the summary statistics for the precipitation data\n",
    "df_date_prcp.describe()"
   ]
  },
  {
   "cell_type": "code",
   "execution_count": 106,
   "metadata": {},
   "outputs": [
    {
     "name": "stdout",
     "output_type": "stream",
     "text": [
      "Below is the count of stations: \n",
      "Number of Station available :  9\n"
     ]
    }
   ],
   "source": [
    "# Design a query to show how many stations are available in this dataset?\n",
    "s = text (\"Select count(distinct station) from measurement\")\n",
    "result = connection.execute(s).fetchall()\n",
    "for row in result:\n",
    "    print('Below is the count of stations: ')\n",
    "    print(\"Number of Station available : \",row.values()[0])\n",
    "    "
   ]
  },
  {
   "cell_type": "code",
   "execution_count": 107,
   "metadata": {},
   "outputs": [
    {
     "name": "stdout",
     "output_type": "stream",
     "text": [
      "Below are the Station and their frequency: \n",
      "('WAIHEE 837.5, HI US', 2772)\n",
      "('WAIKIKI 717.2, HI US', 2724)\n",
      "('KANEOHE 838.1, HI US', 2709)\n",
      "('WAIMANALO EXPERIMENTAL FARM, HI US', 2669)\n",
      "('MANOA LYON ARBO 785.2, HI US', 2612)\n",
      "('KUALOA RANCH HEADQUARTERS 886.9, HI US', 2202)\n",
      "('HONOLULU OBSERVATORY 702.2, HI US', 1979)\n",
      "('PEARL CITY, HI US', 1372)\n",
      "('UPPER WAHIAWA 874.3, HI US', 511)\n"
     ]
    }
   ],
   "source": [
    "# What are the most active stations? (i.e. what stations have the most rows)?\n",
    "# List the stations and the counts in descending order.\n",
    "s = text (\"Select name, count(1) As Count from measurement m inner join station s on m.station = s.station group by s.name order by count(1) desc\")\n",
    "result = connection.execute(s).fetchall()\n",
    "print('Below are the Station and their frequency: ')\n",
    "for row in result:\n",
    "    print(row)"
   ]
  },
  {
   "cell_type": "code",
   "execution_count": 108,
   "metadata": {},
   "outputs": [
    {
     "name": "stdout",
     "output_type": "stream",
     "text": [
      "Below is the Lowest, highest and Average Temperature of station\n",
      "(54.0, 85.0, 71.66378066378067)\n"
     ]
    }
   ],
   "source": [
    "# Using the station id from the previous query, calculate the lowest temperature recorded, \n",
    "# highest temperature recorded, and average temperature of the most active station?\n",
    "s = text (\"Select min(tobs) AS LowestTemp, max(tobs) As MaxTmp, avg(tobs) As AvgTemp from measurement where station = 'USC00519281'\")\n",
    "result = connection.execute(s).fetchall()\n",
    "for row in result:\n",
    "    print('Below is the Lowest, highest and Average Temperature of station')\n",
    "    print(row)"
   ]
  },
  {
   "cell_type": "code",
   "execution_count": 119,
   "metadata": {
    "collapsed": true
   },
   "outputs": [],
   "source": [
    "# Choose the station with the highest number of temperature observations.\n",
    "# Query the last 12 months of temperature observation data for this station and plot the results as a histogram\n",
    "s = text (\"Select station, tobs, date, 1 AS frequency from measurement\")\n",
    "result = connection.execute(s).fetchall()\n",
    "station_data = pd.DataFrame(result)\n",
    "station_data.columns = result[0].keys()"
   ]
  },
  {
   "cell_type": "code",
   "execution_count": 120,
   "metadata": {},
   "outputs": [
    {
     "data": {
      "text/plain": [
       "<matplotlib.text.Text at 0x2e8476a8da0>"
      ]
     },
     "execution_count": 120,
     "metadata": {},
     "output_type": "execute_result"
    },
    {
     "data": {
      "image/png": "[encoded data removed]",
      "text/plain": [
       "<matplotlib.figure.Figure at 0x2e845db2a58>"
      ]
     },
     "metadata": {},
     "output_type": "display_data"
    }
   ],
   "source": [
    "station_data_freq = station_data[['station', 'frequency']].groupby('station').sum().reset_index()\n",
    "\n",
    "# Get Station with Max Freqency\n",
    "station_maxFreq = station_data_freq[station_data_freq['frequency'] == station_data_freq['frequency'].max()]['station'].values[0]\n",
    "\n",
    "# Get all data for station having max freqency\n",
    "station_data_max_frequency = station_data[station_data['station']==station_maxFreq]\n",
    "\n",
    "# We need to get data for last 12 months from most recent date, so convert date column value to date format\n",
    "station_data['date'] = pd.to_datetime(station_data['date'], errors = 'ignore')\n",
    "# station_data['date'] = station_data['date'].dt.date\n",
    "\n",
    "from pandas.tseries.offsets import DateOffset\n",
    "# Get max date\n",
    "dt_max = station_data.date.max()\n",
    "# Get 12 months old date\n",
    "dt_prev12Months = dt_max - DateOffset(months=12)\n",
    "\n",
    "# Get station data for 12 latest months\n",
    "station_data = station_data[station_data.date>=dt_prev12Months]\n",
    "# print(station_data)\n",
    "station_data = station_data.drop('station', axis=1)\n",
    "\n",
    "# print(station_data)\n",
    "\n",
    "\n",
    "n_bins = 12\n",
    "plt.hist(station_data['tobs'], n_bins,histtype ='bar') \n",
    "plt.ylabel(\"Frequency\")\n",
    "plt.xlabel(\"Temperature\")\n",
    "plt.title(\"Temperature Histogram\")"
   ]
  },
  {
   "cell_type": "code",
   "execution_count": 50,
   "metadata": {
    "collapsed": true
   },
   "outputs": [],
   "source": [
    "from sqlalchemy.orm import sessionmaker\n",
    "\n",
    "Session = sessionmaker(bind=engine)\n",
    "session = Session()"
   ]
  },
  {
   "cell_type": "markdown",
   "metadata": {},
   "source": [
    "## Bonus Challenge Assignment"
   ]
  },
  {
   "cell_type": "code",
   "execution_count": 52,
   "metadata": {},
   "outputs": [
    {
     "name": "stdout",
     "output_type": "stream",
     "text": [
      "[(62.0, 69.57142857142857, 74.0)]\n"
     ]
    }
   ],
   "source": [
    "# This function called `calc_temps` will accept start date and end date in the format '%Y-%m-%d' \n",
    "# and return the minimum, average, and maximum temperatures for that range of dates\n",
    "def calc_temps(start_date, end_date):\n",
    "    \"\"\"TMIN, TAVG, and TMAX for a list of dates.\n",
    "    \n",
    "    Args:\n",
    "        start_date (string): A date string in the format %Y-%m-%d\n",
    "        end_date (string): A date string in the format %Y-%m-%d\n",
    "        \n",
    "    Returns:\n",
    "        TMIN, TAVE, and TMAX\n",
    "    \"\"\"\n",
    "    \n",
    "    return session.query(func.min(measurement.tobs), func.avg(measurement.tobs), func.max(measurement.tobs)).\\\n",
    "        filter(measurement.date >= start_date).filter(measurement.date <= end_date).all()\n",
    "\n",
    "# function usage example\n",
    "print(calc_temps('2012-02-28', '2012-03-05'))"
   ]
  },
  {
   "cell_type": "code",
   "execution_count": 77,
   "metadata": {},
   "outputs": [
    {
     "name": "stdout",
     "output_type": "stream",
     "text": [
      "[(62.0, 69.57142857142857, 74.0)]\n"
     ]
    }
   ],
   "source": [
    "# Use your previous function `calc_temps` to calculate the tmin, tavg, and tmax \n",
    "print(calc_temps('2012-02-28', '2012-03-05'))\n",
    "\n",
    "# for your trip using the previous year's data for those same dates.\n",
    "ses_results = session.query(measurement.id,measurement.station,measurement.date,measurement.prcp,measurement.tobs).\\\n",
    "        filter(measurement.date >= '2012-02-28').filter(measurement.date <= '2012-03-05').all()\n",
    "station_data_freq_daterange = pd.DataFrame(ses_results)\n",
    "station_data_freq_daterange['frequency'] = 1"
   ]
  },
  {
   "cell_type": "code",
   "execution_count": 80,
   "metadata": {},
   "outputs": [
    {
     "data": {
      "text/html": [
       "<div>\n",
       "<style>\n",
       "    .dataframe thead tr:only-child th {\n",
       "        text-align: right;\n",
       "    }\n",
       "\n",
       "    .dataframe thead th {\n",
       "        text-align: left;\n",
       "    }\n",
       "\n",
       "    .dataframe tbody tr th {\n",
       "        vertical-align: top;\n",
       "    }\n",
       "</style>\n",
       "<table border=\"1\" class=\"dataframe\">\n",
       "  <thead>\n",
       "    <tr style=\"text-align: right;\">\n",
       "      <th></th>\n",
       "      <th>id</th>\n",
       "      <th>station</th>\n",
       "      <th>date</th>\n",
       "      <th>prcp</th>\n",
       "      <th>tobs</th>\n",
       "      <th>frequency</th>\n",
       "    </tr>\n",
       "  </thead>\n",
       "  <tbody>\n",
       "    <tr>\n",
       "      <th>0</th>\n",
       "      <td>730</td>\n",
       "      <td>USC00519397</td>\n",
       "      <td>2012-02-28</td>\n",
       "      <td>0.00</td>\n",
       "      <td>73.0</td>\n",
       "      <td>1</td>\n",
       "    </tr>\n",
       "    <tr>\n",
       "      <th>1</th>\n",
       "      <td>731</td>\n",
       "      <td>USC00519397</td>\n",
       "      <td>2012-02-29</td>\n",
       "      <td>0.00</td>\n",
       "      <td>74.0</td>\n",
       "      <td>1</td>\n",
       "    </tr>\n",
       "    <tr>\n",
       "      <th>2</th>\n",
       "      <td>732</td>\n",
       "      <td>USC00519397</td>\n",
       "      <td>2012-03-01</td>\n",
       "      <td>0.06</td>\n",
       "      <td>73.0</td>\n",
       "      <td>1</td>\n",
       "    </tr>\n",
       "    <tr>\n",
       "      <th>3</th>\n",
       "      <td>733</td>\n",
       "      <td>USC00519397</td>\n",
       "      <td>2012-03-02</td>\n",
       "      <td>0.00</td>\n",
       "      <td>67.0</td>\n",
       "      <td>1</td>\n",
       "    </tr>\n",
       "    <tr>\n",
       "      <th>4</th>\n",
       "      <td>734</td>\n",
       "      <td>USC00519397</td>\n",
       "      <td>2012-03-03</td>\n",
       "      <td>0.03</td>\n",
       "      <td>71.0</td>\n",
       "      <td>1</td>\n",
       "    </tr>\n",
       "  </tbody>\n",
       "</table>\n",
       "</div>"
      ],
      "text/plain": [
       "    id      station        date  prcp  tobs  frequency\n",
       "0  730  USC00519397  2012-02-28  0.00  73.0          1\n",
       "1  731  USC00519397  2012-02-29  0.00  74.0          1\n",
       "2  732  USC00519397  2012-03-01  0.06  73.0          1\n",
       "3  733  USC00519397  2012-03-02  0.00  67.0          1\n",
       "4  734  USC00519397  2012-03-03  0.03  71.0          1"
      ]
     },
     "execution_count": 80,
     "metadata": {},
     "output_type": "execute_result"
    }
   ],
   "source": [
    "station_data_freq_daterange.head()"
   ]
  },
  {
   "cell_type": "code",
   "execution_count": 79,
   "metadata": {},
   "outputs": [
    {
     "data": {
      "text/plain": [
       "<matplotlib.axes._subplots.AxesSubplot at 0x2e844f30198>"
      ]
     },
     "execution_count": 79,
     "metadata": {},
     "output_type": "execute_result"
    },
    {
     "data": {
      "image/png": "[encoded data removed]",
      "text/plain": [
       "<matplotlib.figure.Figure at 0x2e844ef5160>"
      ]
     },
     "metadata": {},
     "output_type": "display_data"
    }
   ],
   "source": [
    "station_data_freq_range = station_data_freq_daterange[['date','prcp']]\n",
    "station_data_freq_range = station_data_freq_range.groupby('date').sum().reset_index()\n",
    "station_data_freq_range  = station_data_freq_range.set_index(station_data_freq_range.date) \n",
    "station_data_freq_range = station_data_freq_range.drop('date', axis=1)\n",
    "# # Sort the dataframe by date\n",
    "# df_date_prcp = df_date_prcp.sort_values('date', ascending=0)\n",
    "station_data_freq_range = station_data_freq_range.rename(columns={'prcp':'precipitation'})\n",
    "# Use Pandas Plotting with Matplotlib to plot the data\n",
    "# df_date_prcp.head(20).plot(kind='bar', xlabel = 'Date', ylabel ='inches')\n",
    "station_data_freq_range.head(20).plot(kind='bar')"
   ]
  },
  {
   "cell_type": "code",
   "execution_count": 82,
   "metadata": {},
   "outputs": [
    {
     "data": {
      "text/html": [
       "<div>\n",
       "<style>\n",
       "    .dataframe thead tr:only-child th {\n",
       "        text-align: right;\n",
       "    }\n",
       "\n",
       "    .dataframe thead th {\n",
       "        text-align: left;\n",
       "    }\n",
       "\n",
       "    .dataframe tbody tr th {\n",
       "        vertical-align: top;\n",
       "    }\n",
       "</style>\n",
       "<table border=\"1\" class=\"dataframe\">\n",
       "  <thead>\n",
       "    <tr style=\"text-align: right;\">\n",
       "      <th></th>\n",
       "      <th>precipitation</th>\n",
       "    </tr>\n",
       "  </thead>\n",
       "  <tbody>\n",
       "    <tr>\n",
       "      <th>count</th>\n",
       "      <td>7.000000</td>\n",
       "    </tr>\n",
       "    <tr>\n",
       "      <th>mean</th>\n",
       "      <td>5.131429</td>\n",
       "    </tr>\n",
       "    <tr>\n",
       "      <th>std</th>\n",
       "      <td>8.128117</td>\n",
       "    </tr>\n",
       "    <tr>\n",
       "      <th>min</th>\n",
       "      <td>0.260000</td>\n",
       "    </tr>\n",
       "    <tr>\n",
       "      <th>25%</th>\n",
       "      <td>0.540000</td>\n",
       "    </tr>\n",
       "    <tr>\n",
       "      <th>50%</th>\n",
       "      <td>0.700000</td>\n",
       "    </tr>\n",
       "    <tr>\n",
       "      <th>75%</th>\n",
       "      <td>5.575000</td>\n",
       "    </tr>\n",
       "    <tr>\n",
       "      <th>max</th>\n",
       "      <td>22.730000</td>\n",
       "    </tr>\n",
       "  </tbody>\n",
       "</table>\n",
       "</div>"
      ],
      "text/plain": [
       "       precipitation\n",
       "count       7.000000\n",
       "mean        5.131429\n",
       "std         8.128117\n",
       "min         0.260000\n",
       "25%         0.540000\n",
       "50%         0.700000\n",
       "75%         5.575000\n",
       "max        22.730000"
      ]
     },
     "execution_count": 82,
     "metadata": {},
     "output_type": "execute_result"
    }
   ],
   "source": [
    "# Use Pandas to calcualte the summary statistics for the precipitation data\n",
    "station_data_freq_range.describe()"
   ]
  },
  {
   "cell_type": "code",
   "execution_count": null,
   "metadata": {
    "collapsed": true
   },
   "outputs": [],
   "source": [
    "# Design a query to show how many stations are available in this dataset?\n",
    "s = text (\"Select count(distinct station) from measurement\")\n",
    "result = connection.execute(s).fetchall()\n",
    "for row in result:\n",
    "    print('Below is the count of stations: ')\n",
    "    print(row.values())"
   ]
  },
  {
   "cell_type": "code",
   "execution_count": null,
   "metadata": {
    "collapsed": true
   },
   "outputs": [],
   "source": [
    "# Plot the results from your previous query as a bar chart. \n",
    "# Use \"Trip Avg Temp\" as your Title\n",
    "# Use the average temperature for the y value\n",
    "# Use the peak-to-peak (tmax-tmin) value as the y error bar (yerr)\n"
   ]
  },
  {
   "cell_type": "code",
   "execution_count": null,
   "metadata": {
    "collapsed": true
   },
   "outputs": [],
   "source": [
    "# Calculate the total amount of rainfall per weather station for your trip dates using the previous year's matching dates.\n",
    "# Sort this in descending order by precipitation amount and list the station, name, latitude, longitude, and elevation\n",
    "\n"
   ]
  },
  {
   "cell_type": "code",
   "execution_count": null,
   "metadata": {
    "collapsed": true
   },
   "outputs": [],
   "source": [
    "# Create a query that will calculate the daily normals \n",
    "# (i.e. the averages for tmin, tmax, and tavg for all historic data matching a specific month and day)\n",
    "\n",
    "def daily_normals(date):\n",
    "    \"\"\"Daily Normals.\n",
    "    \n",
    "    Args:\n",
    "        date (str): A date string in the format '%m-%d'\n",
    "        \n",
    "    Returns:\n",
    "        A list of tuples containing the daily normals, tmin, tavg, and tmax\n",
    "    \n",
    "    \"\"\"\n",
    "    \n",
    "    sel = [func.min(Measurement.tobs), func.avg(Measurement.tobs), func.max(Measurement.tobs)]\n",
    "    return session.query(*sel).filter(func.strftime(\"%m-%d\", Measurement.date) == date).all()\n",
    "    \n",
    "daily_normals(\"01-01\")"
   ]
  },
  {
   "cell_type": "code",
   "execution_count": null,
   "metadata": {
    "collapsed": true
   },
   "outputs": [],
   "source": [
    "# calculate the daily normals for your trip\n",
    "# push each tuple of calculations into a list called `normals`\n",
    "\n",
    "# Set the start and end date of the trip\n",
    "\n",
    "# Use the start and end date to create a range of dates\n",
    "\n",
    "# Stip off the year and save a list of %m-%d strings\n",
    "\n",
    "# Loop through the list of %m-%d strings and calculate the normals for each date\n"
   ]
  },
  {
   "cell_type": "code",
   "execution_count": null,
   "metadata": {
    "collapsed": true
   },
   "outputs": [],
   "source": [
    "# Load the previous query results into a Pandas DataFrame and add the `trip_dates` range as the `date` index\n"
   ]
  },
  {
   "cell_type": "code",
   "execution_count": null,
   "metadata": {
    "collapsed": true
   },
   "outputs": [],
   "source": [
    "# Plot the daily normals as an area plot with `stacked=False`\n"
   ]
  },
  {
   "cell_type": "code",
   "execution_count": 121,
   "metadata": {
    "collapsed": true
   },
   "outputs": [],
   "source": [
    "dic = {\"ABC\":\"abc\",\"BCD\":\"bcd\"}"
   ]
  },
  {
   "cell_type": "code",
   "execution_count": 127,
   "metadata": {},
   "outputs": [
    {
     "data": {
      "text/plain": [
       "'abc'"
      ]
     },
     "execution_count": 127,
     "metadata": {},
     "output_type": "execute_result"
    }
   ],
   "source": [
    "list(dic.values())[0]"
   ]
  },
  {
   "cell_type": "code",
   "execution_count": null,
   "metadata": {
    "collapsed": true
   },
   "outputs": [],
   "source": []
  }
 ],
 "metadata": {
  "kernel_info": {
   "name": "python3"
  },
  "kernelspec": {
   "display_name": "Python 3",
   "language": "python",
   "name": "python3"
  },
  "language_info": {
   "codemirror_mode": {
    "name": "ipython",
    "version": 3
   },
   "file_extension": ".py",
   "mimetype": "text/x-python",
   "name": "python",
   "nbconvert_exporter": "python",
   "pygments_lexer": "ipython3",
   "version": "3.6.1"
  },
  "nteract": {
   "version": "0.12.3"
  },
  "varInspector": {
   "cols": {
    "lenName": 16,
    "lenType": 16,
    "lenVar": 40
   },
   "kernels_config": {
    "python": {
     "delete_cmd_postfix": "",
     "delete_cmd_prefix": "del ",
     "library": "var_list.py",
     "varRefreshCmd": "print(var_dic_list())"
    },
    "r": {
     "delete_cmd_postfix": ") ",
     "delete_cmd_prefix": "rm(",
     "library": "var_list.r",
     "varRefreshCmd": "cat(var_dic_list()) "
    }
   },
   "types_to_exclude": [
    "module",
    "function",
    "builtin_function_or_method",
    "instance",
    "_Feature"
   ],
   "window_display": false
  }
 },
 "nbformat": 4,
 "nbformat_minor": 4
}
